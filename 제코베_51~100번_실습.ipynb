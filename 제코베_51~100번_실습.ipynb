{
 "cells": [
  {
   "cell_type": "markdown",
   "id": "0d76f21f",
   "metadata": {},
   "source": [
    "# 51번 : merge sort를 만들어보자"
   ]
  },
  {
   "cell_type": "code",
   "execution_count": 18,
   "id": "8cf2bcf5",
   "metadata": {},
   "outputs": [
    {
     "name": "stdout",
     "output_type": "stream",
     "text": [
      "None\n"
     ]
    }
   ],
   "source": [
    "def 병합정렬(입력리스트):\n",
    "    입력리스트길이=len(입력리스트)\n",
    "    if 입력리스트길이<=1:\n",
    "        return 입력리스트\n",
    "    \n",
    "    중간값=입력리스트길이//2\n",
    "    그룹_하나=병합정렬(입력리스트[:중간값])\n",
    "    그룹_둘=병합정렬(입력리스트[중간값:])\n",
    "    결과값=[]\n",
    "    while (그룹_하나) and (그룹_둘):\n",
    "        if (그룹_하나[0]<그룹_둘[0]):\n",
    "            결과값.append(그룹_하나.pop(0))\n",
    "        else:\n",
    "            결과값.append(그룹_둘.pop(0))\n",
    "    \n",
    "    while 그룹_하나:\n",
    "        결과값.append(그룹_하나.pop(0))\n",
    "    while 그룹_둘:\n",
    "        결과값.append(그룹_둘.pop(0))\n",
    "주어진리스트=[1,3,5,4,8,6,7,2]\n",
    "# 빈칸 채우세요?\n",
    "\n",
    "print(병합정렬(주어진리스트))\n"
   ]
  },
  {
   "cell_type": "markdown",
   "id": "c4cd0bcb",
   "metadata": {},
   "source": [
    "# 52번 : quick sort"
   ]
  },
  {
   "cell_type": "code",
   "execution_count": 19,
   "id": "c1e443af",
   "metadata": {},
   "outputs": [
    {
     "name": "stdout",
     "output_type": "stream",
     "text": [
      "[45, 145, 165, 170, 171, 173, 175, 180]\n"
     ]
    }
   ],
   "source": [
    "def 퀵정렬(입력리스트):\n",
    "    입력리스트의길이=len(입력리스트)\n",
    "    if 입력리스트의길이<=1:\n",
    "        return 입력리스트\n",
    "    \n",
    "    기준값=입력리스트.pop(입력리스트의길이//2)\n",
    "    그룹_하나=[]\n",
    "    그룹_둘=[]\n",
    "    \n",
    "    for i in range(입력리스트의길이-1):\n",
    "        if (입력리스트[i]<기준값):\n",
    "            그룹_하나.append(입력리스트[i])\n",
    "        else:\n",
    "            그룹_둘.append(입력리스트[i])\n",
    "        \n",
    "    return (퀵정렬(그룹_하나)+[기준값]+퀵정렬(그룹_둘))\n",
    "\n",
    "주어진리스트=[180,145,165,45,170,175,173,171]\n",
    "\n",
    "print(퀵정렬(주어진리스트))"
   ]
  },
  {
   "cell_type": "markdown",
   "id": "fffd158a",
   "metadata": {},
   "source": [
    "# 53번 : 괄호 문자열"
   ]
  },
  {
   "cell_type": "code",
   "execution_count": 173,
   "id": "7c232ab1",
   "metadata": {},
   "outputs": [
    {
     "data": {
      "text/plain": [
       "['(', ')', '(', ')', ')']"
      ]
     },
     "execution_count": 173,
     "metadata": {},
     "output_type": "execute_result"
    }
   ],
   "source": [
    "s='()())'\n",
    "k=list(s)\n",
    "k"
   ]
  },
  {
   "cell_type": "code",
   "execution_count": 174,
   "id": "6c439bb6",
   "metadata": {},
   "outputs": [
    {
     "name": "stdout",
     "output_type": "stream",
     "text": [
      "No\n"
     ]
    }
   ],
   "source": [
    "for i in s:\n",
    "    if i=='(':\n",
    "        k.remove(')')\n",
    "if ')' in k:\n",
    "    print('No')\n",
    "else:\n",
    "    print('Yes')"
   ]
  },
  {
   "cell_type": "markdown",
   "id": "670cc87e",
   "metadata": {},
   "source": [
    "# 54번 : 연속되는 수"
   ]
  },
  {
   "cell_type": "code",
   "execution_count": 194,
   "id": "97acadf2",
   "metadata": {},
   "outputs": [],
   "source": [
    "nums=[1,4,2,6,3]"
   ]
  },
  {
   "cell_type": "code",
   "execution_count": 195,
   "id": "819b1508",
   "metadata": {},
   "outputs": [
    {
     "data": {
      "text/plain": [
       "[1, 2, 3, 4, 5]"
      ]
     },
     "execution_count": 195,
     "metadata": {},
     "output_type": "execute_result"
    }
   ],
   "source": [
    "l=list(range(1,len(nums)+1))\n",
    "l"
   ]
  },
  {
   "cell_type": "code",
   "execution_count": 196,
   "id": "88b017d9",
   "metadata": {},
   "outputs": [],
   "source": [
    "a=0\n",
    "for i in range(len(nums)):\n",
    "    if nums[i] in l:\n",
    "        a+=1\n",
    "    else:\n",
    "        a+=0"
   ]
  },
  {
   "cell_type": "code",
   "execution_count": 197,
   "id": "1dae42b8",
   "metadata": {},
   "outputs": [
    {
     "name": "stdout",
     "output_type": "stream",
     "text": [
      "NO\n"
     ]
    }
   ],
   "source": [
    "if a==len(nums):\n",
    "    print('YES')\n",
    "else:\n",
    "    print('NO')"
   ]
  },
  {
   "cell_type": "markdown",
   "id": "7d2ff849",
   "metadata": {},
   "source": [
    "# 55번 : 하노이의 탑"
   ]
  },
  {
   "cell_type": "markdown",
   "id": "83c00f99",
   "metadata": {},
   "source": [
    "하노이탑_최소_원반_이동횟수=(2**n)-1\n",
    "->0(2**n)"
   ]
  },
  {
   "cell_type": "code",
   "execution_count": 23,
   "id": "cabc7f13",
   "metadata": {},
   "outputs": [
    {
     "name": "stdout",
     "output_type": "stream",
     "text": [
      "[['A', 'C'], ['A', 'B'], ['C', 'B'], ['A', 'C'], ['B', 'A'], ['B', 'C'], ['A', 'C']]\n",
      "7\n"
     ]
    }
   ],
   "source": [
    "원판의이동경로=[]\n",
    "def 하노이(원반의수,시작기둥,목표기둥,보조기둥):\n",
    "    #원판이 한개일 때에는 옮기면 됩니다\n",
    "    if 원반의수==1:\n",
    "        원판의이동경로.append([시작기둥,목표기둥])\n",
    "        return None\n",
    "    #원반의 n-1개를 경유기둥으로 옮기고\n",
    "    하노이(원반의수-1,시작기둥,보조기둥,목표기둥)\n",
    "    \n",
    "    #가장 큰 원반은 목표기둥으로\n",
    "    원판의이동경로.append([시작기둥,목표기둥])\n",
    "        \n",
    "    #경유기둥과 시작기둥을 바꾸기\n",
    "    하노이(원반의수-1,보조기둥,목표기둥,시작기둥)\n",
    "\n",
    "#user_input=int(input())\n",
    "하노이(3,'A','C','B')\n",
    "print(원판의이동경로)\n",
    "print(len(원판의이동경로))"
   ]
  },
  {
   "cell_type": "markdown",
   "id": "cda3b012",
   "metadata": {},
   "source": [
    "# 56번 : 리스트의 함수 응용"
   ]
  },
  {
   "cell_type": "code",
   "execution_count": 25,
   "id": "88afa784",
   "metadata": {},
   "outputs": [],
   "source": [
    "nationWidth={'korea':220877,\n",
    "            'Russia':17098242,\n",
    "            'China':9596961,\n",
    "            'France':543965,\n",
    "            'Japan':377915,\n",
    "            'England':242900}"
   ]
  },
  {
   "cell_type": "code",
   "execution_count": 31,
   "id": "d5a60ffb",
   "metadata": {},
   "outputs": [
    {
     "name": "stdout",
     "output_type": "stream",
     "text": [
      "[0, 16877365, 9376084, 323088, 157038, 22023]\n"
     ]
    }
   ],
   "source": [
    "v=[]\n",
    "for i in nationWidth.values():\n",
    "    v.append(abs(nationWidth['korea']-i))\n",
    "    \n",
    "print(v)"
   ]
  },
  {
   "cell_type": "code",
   "execution_count": 35,
   "id": "57c15e40",
   "metadata": {},
   "outputs": [],
   "source": [
    "v.remove(0)"
   ]
  },
  {
   "cell_type": "code",
   "execution_count": 37,
   "id": "4760907a",
   "metadata": {},
   "outputs": [
    {
     "data": {
      "text/plain": [
       "22023"
      ]
     },
     "execution_count": 37,
     "metadata": {},
     "output_type": "execute_result"
    }
   ],
   "source": [
    "min(v)"
   ]
  },
  {
   "cell_type": "markdown",
   "id": "0127387a",
   "metadata": {},
   "source": [
    "# 57번 : 내장함수 응용하기"
   ]
  },
  {
   "cell_type": "code",
   "execution_count": 55,
   "id": "ca9d1409",
   "metadata": {},
   "outputs": [],
   "source": [
    "s=''\n",
    "for i in range(0,1001):\n",
    "    s+=str(i)"
   ]
  },
  {
   "cell_type": "code",
   "execution_count": 52,
   "id": "ae24eb60",
   "metadata": {},
   "outputs": [
    {
     "name": "stdout",
     "output_type": "stream",
     "text": [
      "301\n"
     ]
    }
   ],
   "source": [
    "cnt=0\n",
    "for i in s:\n",
    "    if i =='1':\n",
    "        cnt+=1\n",
    "print(cnt)"
   ]
  },
  {
   "cell_type": "markdown",
   "id": "3836752a",
   "metadata": {},
   "source": [
    "# 58번 : 콤마찍기"
   ]
  },
  {
   "cell_type": "code",
   "execution_count": 163,
   "id": "61caab77",
   "metadata": {},
   "outputs": [
    {
     "data": {
      "text/plain": [
       "['9', '8', '7', '6', '5', '4', '3', '2', '1', '9', '9', '8', '0']"
      ]
     },
     "execution_count": 163,
     "metadata": {},
     "output_type": "execute_result"
    }
   ],
   "source": [
    "s='0899123456789'\n",
    "r=s[::-1]\n",
    "my_list=list(r)\n",
    "my_list"
   ]
  },
  {
   "cell_type": "code",
   "execution_count": 164,
   "id": "5b2513cd",
   "metadata": {},
   "outputs": [],
   "source": [
    "end_num=0\n",
    "if len(my_list)%3==0:\n",
    "    end_num=len(my_list)//3\n",
    "else:\n",
    "    end_num=len(my_list)//3+1"
   ]
  },
  {
   "cell_type": "code",
   "execution_count": 165,
   "id": "f67c0ca6",
   "metadata": {
    "scrolled": false
   },
   "outputs": [
    {
     "name": "stdout",
     "output_type": "stream",
     "text": [
      "['9', '8', '7', ',', '6', '5', '4', ',', '3', '2', '1', ',', '9', '9', '8', ',', '0']\n"
     ]
    }
   ],
   "source": [
    "for i in range(1,end_num):\n",
    "    my_list.insert(4*i-1,',')\n",
    "print(my_list)"
   ]
  },
  {
   "cell_type": "code",
   "execution_count": 167,
   "id": "192b4a26",
   "metadata": {},
   "outputs": [
    {
     "data": {
      "text/plain": [
       "'0,899,123,456,789'"
      ]
     },
     "execution_count": 167,
     "metadata": {},
     "output_type": "execute_result"
    }
   ],
   "source": [
    "new_s=''\n",
    "for i in my_list:\n",
    "    new_s+=i\n",
    "new_s[::-1]"
   ]
  },
  {
   "cell_type": "markdown",
   "id": "e317c9bd",
   "metadata": {},
   "source": [
    "# 59번 : 빈칸채우기"
   ]
  },
  {
   "cell_type": "code",
   "execution_count": 177,
   "id": "92a08b5b",
   "metadata": {},
   "outputs": [
    {
     "data": {
      "text/plain": [
       "'                        hi                        '"
      ]
     },
     "execution_count": 177,
     "metadata": {},
     "output_type": "execute_result"
    }
   ],
   "source": [
    "s='hi'\n",
    "s=s.center(50)\n",
    "s"
   ]
  },
  {
   "cell_type": "code",
   "execution_count": 178,
   "id": "1da2f300",
   "metadata": {},
   "outputs": [
    {
     "data": {
      "text/plain": [
       "'========================hi========================'"
      ]
     },
     "execution_count": 178,
     "metadata": {},
     "output_type": "execute_result"
    }
   ],
   "source": [
    "for i in s:\n",
    "    if i==' ':\n",
    "        s=s.replace(' ','=')\n",
    "s"
   ]
  },
  {
   "cell_type": "markdown",
   "id": "245e305e",
   "metadata": {},
   "source": [
    "# 60번 : enumerate"
   ]
  },
  {
   "cell_type": "code",
   "execution_count": 181,
   "id": "12b3247b",
   "metadata": {},
   "outputs": [
    {
     "name": "stdout",
     "output_type": "stream",
     "text": [
      "1 강은지\n",
      "2 강채연\n",
      "3 권윤일\n",
      "4 김민호\n",
      "5 김유정\n",
      "6 김진이\n",
      "7 김채리\n",
      "8 박지호\n",
      "9 박현서\n",
      "10 최성훈\n",
      "11 한지호\n",
      "12 홍유진\n"
     ]
    }
   ],
   "source": [
    "student=['강은지','김유정','박현서','최성훈','홍유진','박지호','권윤일','김채리','한지호','김진이','김민호','강채연']\n",
    "\n",
    "for i,v in enumerate(sorted(student),1):\n",
    "    print(i,v)"
   ]
  },
  {
   "cell_type": "markdown",
   "id": "b966015b",
   "metadata": {},
   "source": [
    "# 61번 : 문자열 압축하기"
   ]
  },
  {
   "cell_type": "code",
   "execution_count": 14,
   "id": "96e4d70b",
   "metadata": {},
   "outputs": [],
   "source": [
    "s='aaabbbbcdddd'\n",
    "b=''.join(set(s))"
   ]
  },
  {
   "cell_type": "code",
   "execution_count": 16,
   "id": "e2915edc",
   "metadata": {},
   "outputs": [
    {
     "name": "stdout",
     "output_type": "stream",
     "text": [
      "a3b4c1d4"
     ]
    }
   ],
   "source": [
    "for i in sorted(b):\n",
    "    print(i,s.count(i),sep='',end='')"
   ]
  },
  {
   "cell_type": "markdown",
   "id": "34ba8d46",
   "metadata": {},
   "source": [
    "# 62번 : 20190923 출력하기"
   ]
  },
  {
   "cell_type": "code",
   "execution_count": 31,
   "id": "e9079717",
   "metadata": {},
   "outputs": [],
   "source": [
    "a=ord('<')-ord('(')"
   ]
  },
  {
   "cell_type": "code",
   "execution_count": 32,
   "id": "10e305ea",
   "metadata": {},
   "outputs": [],
   "source": [
    "b=ord('<')-ord(')')"
   ]
  },
  {
   "cell_type": "code",
   "execution_count": 33,
   "id": "9cd8cabb",
   "metadata": {},
   "outputs": [],
   "source": [
    "c=ord('<')-ord('<')"
   ]
  },
  {
   "cell_type": "code",
   "execution_count": 34,
   "id": "3d1d0f6b",
   "metadata": {},
   "outputs": [],
   "source": [
    "d=ord('<')-ord('3')"
   ]
  },
  {
   "cell_type": "code",
   "execution_count": 35,
   "id": "69b6daac",
   "metadata": {},
   "outputs": [],
   "source": [
    "e=ord('<')-ord('%')"
   ]
  },
  {
   "cell_type": "code",
   "execution_count": 37,
   "id": "cb606592",
   "metadata": {},
   "outputs": [
    {
     "name": "stdout",
     "output_type": "stream",
     "text": [
      "20190923\n"
     ]
    }
   ],
   "source": [
    "print(a,b,c,d,e,sep='')"
   ]
  },
  {
   "cell_type": "markdown",
   "id": "e2e481ee",
   "metadata": {},
   "source": [
    "# 63번 : 친해지고 싶어"
   ]
  },
  {
   "cell_type": "code",
   "execution_count": 44,
   "id": "1ab14ce6",
   "metadata": {},
   "outputs": [
    {
     "data": {
      "text/plain": [
       "'복'"
      ]
     },
     "execution_count": 44,
     "metadata": {},
     "output_type": "execute_result"
    }
   ],
   "source": [
    "s3='복잡한 세상 편하게 살자'\n",
    "first=s3[0] \n",
    "first"
   ]
  },
  {
   "cell_type": "code",
   "execution_count": 45,
   "id": "1ea87873",
   "metadata": {},
   "outputs": [
    {
     "data": {
      "text/plain": [
       "'복세편살'"
      ]
     },
     "execution_count": 45,
     "metadata": {},
     "output_type": "execute_result"
    }
   ],
   "source": [
    "for i in range(len(s3)):\n",
    "    if s3[i]==' ':\n",
    "        first+=s3[i+1]\n",
    "first"
   ]
  },
  {
   "cell_type": "markdown",
   "id": "e9c1e4b2",
   "metadata": {},
   "source": [
    "# 64번 : 이상한 엘레베이터"
   ]
  },
  {
   "cell_type": "code",
   "execution_count": 54,
   "id": "141ccb4c",
   "metadata": {},
   "outputs": [
    {
     "name": "stdout",
     "output_type": "stream",
     "text": [
      "3 1\n"
     ]
    }
   ],
   "source": [
    "n=24\n",
    "sev=0\n",
    "thr=0\n",
    "\n",
    "if n%7==0:\n",
    "    sev=n//7\n",
    "elif n%7==3:\n",
    "    sev=n//7\n",
    "    thr=1\n",
    "elif n%7==6:\n",
    "    sev=n//7\n",
    "    thr=2\n",
    "elif n%7==1:\n",
    "    sev=(n//7)-2\n",
    "    thr=5\n",
    "elif n%7==2:\n",
    "    sev=(n//7)-1\n",
    "    thr=3\n",
    "elif n%7==4:\n",
    "    sev=(n//7)-2\n",
    "    thr=6\n",
    "elif n%7==5:\n",
    "    sev=(n//7)-1\n",
    "    thr=4\n",
    "else:\n",
    "    print(-1)\n",
    "print(sev,thr)"
   ]
  },
  {
   "cell_type": "markdown",
   "id": "8e2c5982",
   "metadata": {},
   "source": [
    "# 65번 : 변형된 리스트"
   ]
  },
  {
   "cell_type": "code",
   "execution_count": 65,
   "id": "28a3df72",
   "metadata": {},
   "outputs": [
    {
     "data": {
      "text/plain": [
       "[[1, 'a'], [2, 'b'], [3, 'c'], [4, 'd']]"
      ]
     },
     "execution_count": 65,
     "metadata": {},
     "output_type": "execute_result"
    }
   ],
   "source": [
    "a=[1,2,3,4]\n",
    "b=['a','b','c','d']\n",
    "new_list=[]\n",
    "zip_list=zip(a,b)\n",
    "\n",
    "for i in list(zip_list):\n",
    "    new_list.append(list(i))\n",
    "new_list"
   ]
  },
  {
   "cell_type": "markdown",
   "id": "974941dd",
   "metadata": {},
   "source": [
    "# 66번 : 블럭 쌓기"
   ]
  },
  {
   "cell_type": "code",
   "execution_count": 36,
   "id": "89319d23",
   "metadata": {},
   "outputs": [],
   "source": [
    "탑=[\"ABCDEF\",'BCAD','ADEFQRX','BEDFG','EFGHZ']\n",
    "규칙='ABD'\n",
    "s='BBBBBBDA'"
   ]
  },
  {
   "cell_type": "code",
   "execution_count": 37,
   "id": "e55b77e1",
   "metadata": {},
   "outputs": [
    {
     "name": "stdout",
     "output_type": "stream",
     "text": [
      "불가능\n"
     ]
    }
   ],
   "source": [
    "result=''\n",
    "for i in range(len(s)):\n",
    "    if s[i]=='B':\n",
    "        for j in range(i+1,len(s)):\n",
    "            if s[j]=='A':\n",
    "                result='불가능'\n",
    "    elif s[i]=='D':\n",
    "        for k in range(i+1,len(s)):\n",
    "            if s[k]=='A':\n",
    "                result='불가능'\n",
    "            elif s[k]=='B':\n",
    "                result='불가능'\n",
    "\n",
    "if '불가능' in result:\n",
    "    print('불가능')\n",
    "elif '' in result:\n",
    "    print('가능')"
   ]
  },
  {
   "cell_type": "markdown",
   "id": "63e9e079",
   "metadata": {},
   "source": [
    "# 67번 : 민규의 악수"
   ]
  },
  {
   "cell_type": "code",
   "execution_count": 68,
   "id": "f1136ec2",
   "metadata": {},
   "outputs": [
    {
     "name": "stdout",
     "output_type": "stream",
     "text": [
      "3 12\n"
     ]
    }
   ],
   "source": [
    "shake=58\n",
    "행사참가자=0\n",
    "total=0\n",
    "i=1\n",
    "while True:\n",
    "    total+=i\n",
    "    i=i+1\n",
    "    if (shake>total-i) & (shake<total):\n",
    "        행사참가자=i\n",
    "        break\n",
    "        \n",
    "\n",
    "lack_shake=total-shake\n",
    "민규의악수횟수=행사참가자-lack_shake-1\n",
    "\n",
    "print(민규의악수횟수,행사참가자)"
   ]
  },
  {
   "cell_type": "markdown",
   "id": "4801c277",
   "metadata": {},
   "source": [
    "# 68번 : 버스 시간표"
   ]
  },
  {
   "cell_type": "code",
   "execution_count": 130,
   "id": "77f5a517",
   "metadata": {},
   "outputs": [],
   "source": [
    "bus=['12:30','13:20','14:13']\n",
    "now='12:40'\n",
    "times=[]\n",
    "minutes=[]"
   ]
  },
  {
   "cell_type": "code",
   "execution_count": 131,
   "id": "5e43c7ff",
   "metadata": {},
   "outputs": [
    {
     "name": "stdout",
     "output_type": "stream",
     "text": [
      "[['12', '30'], ['13', '20'], ['14', '13']]\n",
      "[750, 800, 853]\n"
     ]
    }
   ],
   "source": [
    "#버스 시간표 분으로 바꾸기\n",
    "for i in bus:\n",
    "    times.append(i.split(':'))\n",
    "print(times)\n",
    "for i in range(len(times)):\n",
    "    minutes.append(int(times[i][0])*60+int(times[i][1]))\n",
    "print(minutes)"
   ]
  },
  {
   "cell_type": "code",
   "execution_count": 132,
   "id": "becf8241",
   "metadata": {},
   "outputs": [
    {
     "data": {
      "text/plain": [
       "760"
      ]
     },
     "execution_count": 132,
     "metadata": {},
     "output_type": "execute_result"
    }
   ],
   "source": [
    "#현재시간 분으로 바꾸기\n",
    "now_time=now.split(':')\n",
    "now_minute=(int(now_time[0])*60+int(now_time[1]))\n",
    "now_minute"
   ]
  },
  {
   "cell_type": "code",
   "execution_count": 133,
   "id": "1b58543f",
   "metadata": {},
   "outputs": [
    {
     "data": {
      "text/plain": [
       "[-10, 40, 93]"
      ]
     },
     "execution_count": 133,
     "metadata": {},
     "output_type": "execute_result"
    }
   ],
   "source": [
    "# 두개 빼기\n",
    "minus=[]\n",
    "for i in minutes:\n",
    "    minus.append(i-now_minute)\n",
    "minus"
   ]
  },
  {
   "cell_type": "code",
   "execution_count": 136,
   "id": "9d7cd859",
   "metadata": {},
   "outputs": [
    {
     "data": {
      "text/plain": [
       "['지나갔습니다', '0시간 40 분', '1시간 33분']"
      ]
     },
     "execution_count": 136,
     "metadata": {},
     "output_type": "execute_result"
    }
   ],
   "source": [
    "result=[]\n",
    "for i in minus:\n",
    "    if i<0:\n",
    "        result.append('지나갔습니다')\n",
    "    elif (i>0) & (i<60):\n",
    "        result.append('0시간 {0} 분'.format(i))\n",
    "    else:\n",
    "        hour=0\n",
    "        while i>60:\n",
    "            i=i-60\n",
    "            hour=hour+1\n",
    "        result.append('{0}시간 {1}분'.format(hour,i))\n",
    "result"
   ]
  },
  {
   "cell_type": "markdown",
   "id": "74c951ac",
   "metadata": {},
   "source": [
    "# 69번 : 골드바흐의 추측"
   ]
  },
  {
   "cell_type": "code",
   "execution_count": 155,
   "id": "d31d3cec",
   "metadata": {},
   "outputs": [
    {
     "name": "stdout",
     "output_type": "stream",
     "text": [
      "3\n",
      "4\n",
      "6\n",
      "7\n",
      "8\n",
      "9\n"
     ]
    }
   ],
   "source": [
    "fir=0\n",
    "sec=0\n",
    "x=10\n",
    "for i in range(2, x):\n",
    "    # 소수 아니라면\n",
    "    if x % i != 0:\n",
    "        print(i)\n",
    "\n",
    "        "
   ]
  },
  {
   "cell_type": "code",
   "execution_count": null,
   "id": "0019e271",
   "metadata": {},
   "outputs": [],
   "source": []
  }
 ],
 "metadata": {
  "kernelspec": {
   "display_name": "Python 3 (ipykernel)",
   "language": "python",
   "name": "python3"
  },
  "language_info": {
   "codemirror_mode": {
    "name": "ipython",
    "version": 3
   },
   "file_extension": ".py",
   "mimetype": "text/x-python",
   "name": "python",
   "nbconvert_exporter": "python",
   "pygments_lexer": "ipython3",
   "version": "3.9.12"
  },
  "toc": {
   "base_numbering": 1,
   "nav_menu": {},
   "number_sections": true,
   "sideBar": true,
   "skip_h1_title": false,
   "title_cell": "Table of Contents",
   "title_sidebar": "Contents",
   "toc_cell": false,
   "toc_position": {},
   "toc_section_display": true,
   "toc_window_display": false
  }
 },
 "nbformat": 4,
 "nbformat_minor": 5
}
