{
 "cells": [
  {
   "cell_type": "markdown",
   "id": "5ce338a6",
   "metadata": {},
   "source": [
    "# 1번 : 리스트의 삭제"
   ]
  },
  {
   "cell_type": "code",
   "execution_count": 5,
   "id": "315aeb8a",
   "metadata": {},
   "outputs": [
    {
     "data": {
      "text/plain": [
       "[100, 200, 300]"
      ]
     },
     "execution_count": 5,
     "metadata": {},
     "output_type": "execute_result"
    }
   ],
   "source": [
    "nums=[100,200,300,400,500]\n",
    "#nums[:3]도 가능\n",
    "#nums.pop() 2번 사용\n",
    "nums.remove(400)\n",
    "nums.remove(500)\n",
    "nums"
   ]
  },
  {
   "cell_type": "markdown",
   "id": "0816e9a1",
   "metadata": {},
   "source": [
    "# 2번 : 리스트의 내장함수"
   ]
  },
  {
   "cell_type": "code",
   "execution_count": 8,
   "id": "5f8ea0a1",
   "metadata": {},
   "outputs": [
    {
     "name": "stdout",
     "output_type": "stream",
     "text": [
      "[200, 100, 10000, 300]\n"
     ]
    }
   ],
   "source": [
    "l=[200,100,300]\n",
    "l.insert(2,10000) #insert(위치, 넣을 것)\n",
    "print(l)"
   ]
  },
  {
   "cell_type": "markdown",
   "id": "797d089f",
   "metadata": {},
   "source": [
    "# 3번 : 변수의 타입"
   ]
  },
  {
   "cell_type": "code",
   "execution_count": 9,
   "id": "c697f045",
   "metadata": {},
   "outputs": [
    {
     "data": {
      "text/plain": [
       "3"
      ]
     },
     "execution_count": 9,
     "metadata": {},
     "output_type": "execute_result"
    }
   ],
   "source": [
    "3"
   ]
  },
  {
   "cell_type": "markdown",
   "id": "9dc4ec78",
   "metadata": {},
   "source": [
    "# 4번 : 변수의 타입2"
   ]
  },
  {
   "cell_type": "code",
   "execution_count": 11,
   "id": "fbe4adc7",
   "metadata": {},
   "outputs": [
    {
     "data": {
      "text/plain": [
       "3"
      ]
     },
     "execution_count": 11,
     "metadata": {},
     "output_type": "execute_result"
    }
   ],
   "source": [
    "3 #str으로 나와야됨"
   ]
  },
  {
   "cell_type": "markdown",
   "id": "a49fe07e",
   "metadata": {},
   "source": [
    "# 5번 : for문 계산"
   ]
  },
  {
   "cell_type": "code",
   "execution_count": 12,
   "id": "cf922afe",
   "metadata": {},
   "outputs": [
    {
     "data": {
      "text/plain": [
       "4"
      ]
     },
     "execution_count": 12,
     "metadata": {},
     "output_type": "execute_result"
    }
   ],
   "source": [
    "4"
   ]
  },
  {
   "cell_type": "markdown",
   "id": "91929e35",
   "metadata": {},
   "source": [
    "# 6번 : False"
   ]
  },
  {
   "cell_type": "code",
   "execution_count": 14,
   "id": "f34c37d7",
   "metadata": {},
   "outputs": [
    {
     "data": {
      "text/plain": [
       "2"
      ]
     },
     "execution_count": 14,
     "metadata": {},
     "output_type": "execute_result"
    }
   ],
   "source": [
    "2"
   ]
  },
  {
   "cell_type": "code",
   "execution_count": 16,
   "id": "01fdc16a",
   "metadata": {},
   "outputs": [
    {
     "name": "stdout",
     "output_type": "stream",
     "text": [
      "True\n",
      "False\n",
      "True\n",
      "False\n",
      "False\n"
     ]
    }
   ],
   "source": [
    "print(bool(\" \"))\n",
    "print(bool(\"\"))\n",
    "print(bool([\"\",\"\"]))\n",
    "print(bool([]))\n",
    "print(bool(None))"
   ]
  },
  {
   "cell_type": "markdown",
   "id": "a6bdbbe6",
   "metadata": {},
   "source": [
    "# 7번 : 변수명"
   ]
  },
  {
   "cell_type": "code",
   "execution_count": 15,
   "id": "ca29f882",
   "metadata": {},
   "outputs": [
    {
     "data": {
      "text/plain": [
       "(4, 5)"
      ]
     },
     "execution_count": 15,
     "metadata": {},
     "output_type": "execute_result"
    }
   ],
   "source": [
    "3,5 #언더바만으로도 변수명 사용 가능, as는 예약어라 사용불가능 "
   ]
  },
  {
   "cell_type": "markdown",
   "id": "b749f47f",
   "metadata": {},
   "source": [
    "# 8번 : 딕셔너리 키 이름 중복"
   ]
  },
  {
   "cell_type": "code",
   "execution_count": 18,
   "id": "21e8ff65",
   "metadata": {},
   "outputs": [
    {
     "data": {
      "text/plain": [
       "78"
      ]
     },
     "execution_count": 18,
     "metadata": {},
     "output_type": "execute_result"
    }
   ],
   "source": [
    "78"
   ]
  },
  {
   "cell_type": "markdown",
   "id": "61472e41",
   "metadata": {},
   "source": [
    "# 9번 : sep과 end를 활용한 출력방법"
   ]
  },
  {
   "cell_type": "code",
   "execution_count": 23,
   "id": "18c8a857",
   "metadata": {},
   "outputs": [
    {
     "name": "stdout",
     "output_type": "stream",
     "text": [
      "2019/04/26 11:34:27\n"
     ]
    }
   ],
   "source": [
    "year='2019'\n",
    "month='04'\n",
    "day='26'\n",
    "hour='11'\n",
    "minute='34'\n",
    "second='27'\n",
    "\n",
    "print(year,month,day,end=' ',sep='/')\n",
    "print(hour,minute,second,sep=':')"
   ]
  },
  {
   "cell_type": "markdown",
   "id": "70503202",
   "metadata": {},
   "source": [
    "# 10번 : 별 찍기"
   ]
  },
  {
   "cell_type": "code",
   "execution_count": 53,
   "id": "2f4d25d4",
   "metadata": {},
   "outputs": [
    {
     "name": "stdout",
     "output_type": "stream",
     "text": [
      "숫자:5\n"
     ]
    }
   ],
   "source": [
    "input2=int(input('숫자:'))"
   ]
  },
  {
   "cell_type": "code",
   "execution_count": 54,
   "id": "91d44759",
   "metadata": {},
   "outputs": [
    {
     "name": "stdout",
     "output_type": "stream",
     "text": [
      "     *\n",
      "    ***\n",
      "   *****\n",
      "  *******\n",
      " *********\n"
     ]
    }
   ],
   "source": [
    "for i in range(input2):\n",
    "    b=' '*(4-i)\n",
    "    a='*'*(2*i+1)\n",
    "    print(b,a)"
   ]
  },
  {
   "cell_type": "markdown",
   "id": "71d31870",
   "metadata": {},
   "source": [
    "# 11번 : for문을 이용한 기본 활용"
   ]
  },
  {
   "cell_type": "code",
   "execution_count": 86,
   "id": "43308cd3",
   "metadata": {},
   "outputs": [
    {
     "name": "stdout",
     "output_type": "stream",
     "text": [
      "5050\n"
     ]
    }
   ],
   "source": [
    "s=0\n",
    "for i in range(1,101):\n",
    "    s+=i\n",
    "print(s)"
   ]
  },
  {
   "cell_type": "markdown",
   "id": "8d75cc1f",
   "metadata": {},
   "source": [
    "# 12번 : 게임 캐릭터 클래스 만들기"
   ]
  },
  {
   "cell_type": "code",
   "execution_count": 72,
   "id": "f050a0d3",
   "metadata": {},
   "outputs": [
    {
     "name": "stdout",
     "output_type": "stream",
     "text": [
      "545 210 10\n",
      "파이어볼\n"
     ]
    }
   ],
   "source": [
    "class Widzard:\n",
    "    def __init__(self,health, mana, armor):\n",
    "        self.health=health\n",
    "        self.mana=mana\n",
    "        self.armor=armor\n",
    "    def attack(self):\n",
    "        print('파이어볼')\n",
    "\n",
    "x=Widzard(health=545,mana=210,armor=10)\n",
    "print(x.health,x.mana,x.armor)\n",
    "x.attack()"
   ]
  },
  {
   "cell_type": "markdown",
   "id": "fe95b17d",
   "metadata": {},
   "source": [
    "# 13번 : 몇번째 행성인가요?"
   ]
  },
  {
   "cell_type": "code",
   "execution_count": 75,
   "id": "6f7d47f4",
   "metadata": {},
   "outputs": [
    {
     "name": "stdout",
     "output_type": "stream",
     "text": [
      "{'1': '수성', '2': '금성', '3': '지구', '4': '화성', '5': '목성', '6': '토성', '7': '천왕성', '8': '해왕성'}\n"
     ]
    }
   ],
   "source": [
    "a={'1':'수성','2':'금성','3':'지구','4':'화성','5':'목성','6':'토성','7':'천왕성','8':'해왕성'}\n",
    "print(a)"
   ]
  },
  {
   "cell_type": "markdown",
   "id": "dc1c48c3",
   "metadata": {},
   "source": [
    "# 14번 : 3의 배수인가요?"
   ]
  },
  {
   "cell_type": "code",
   "execution_count": 88,
   "id": "d4591ae3",
   "metadata": {},
   "outputs": [
    {
     "name": "stdout",
     "output_type": "stream",
     "text": [
      "숫자:16\n",
      "16\n"
     ]
    }
   ],
   "source": [
    "try:\n",
    "    n=int(input('숫자:'))\n",
    "    if n%3==0 :\n",
    "        print('짝')\n",
    "    else:\n",
    "        print(n)\n",
    "except:\n",
    "    print('숫자를 입력해주세요')"
   ]
  },
  {
   "cell_type": "markdown",
   "id": "254692f1",
   "metadata": {},
   "source": [
    "# 15번 : 자기소개"
   ]
  },
  {
   "cell_type": "code",
   "execution_count": 90,
   "id": "e801b785",
   "metadata": {},
   "outputs": [
    {
     "name": "stdout",
     "output_type": "stream",
     "text": [
      "이름 : 하윤지\n"
     ]
    }
   ],
   "source": [
    "s=input('이름 : ')"
   ]
  },
  {
   "cell_type": "code",
   "execution_count": 91,
   "id": "f55aa3fc",
   "metadata": {},
   "outputs": [
    {
     "name": "stdout",
     "output_type": "stream",
     "text": [
      "안녕하세요. 저는 하윤지 입니다\n",
      "안녕하세요. 저는 하윤지입니다\n",
      "안녕하세요. 저는 하윤지입니다\n"
     ]
    }
   ],
   "source": [
    "print('안녕하세요. 저는 %s 입니다'%s)\n",
    "print('안녕하세요. 저는 {}입니다'.format(s))\n",
    "print(f'안녕하세요. 저는 {s}입니다')"
   ]
  },
  {
   "cell_type": "markdown",
   "id": "70a47f54",
   "metadata": {},
   "source": [
    "# 16번 : 로꾸거"
   ]
  },
  {
   "cell_type": "code",
   "execution_count": 101,
   "id": "21da1ae3",
   "metadata": {},
   "outputs": [
    {
     "name": "stdout",
     "output_type": "stream",
     "text": [
      "문자:거꾸로\n",
      "거로꾸\n"
     ]
    }
   ],
   "source": [
    "s2=input('문자:')\n",
    "new=''\n",
    "for i in range(0,-len(s2),-1):\n",
    "    new+=s2[i]\n",
    "print(new)\n"
   ]
  },
  {
   "cell_type": "markdown",
   "id": "cf5795f3",
   "metadata": {},
   "source": [
    "# 17번 : 놀이기구 키 제한"
   ]
  },
  {
   "cell_type": "code",
   "execution_count": 104,
   "id": "0150f3d9",
   "metadata": {},
   "outputs": [
    {
     "name": "stdout",
     "output_type": "stream",
     "text": [
      "키:195\n",
      "YES\n"
     ]
    }
   ],
   "source": [
    "height=int(input('키:'))\n",
    "if height>150:\n",
    "    print('YES')\n",
    "else:\n",
    "    print('NO')"
   ]
  },
  {
   "cell_type": "markdown",
   "id": "89e047aa",
   "metadata": {},
   "source": [
    "# 18번 : 평균점수"
   ]
  },
  {
   "cell_type": "code",
   "execution_count": 112,
   "id": "c3b20623",
   "metadata": {},
   "outputs": [
    {
     "name": "stdout",
     "output_type": "stream",
     "text": [
      "점수:20 30 40\n"
     ]
    }
   ],
   "source": [
    "score=input('점수:').split()"
   ]
  },
  {
   "cell_type": "code",
   "execution_count": 120,
   "id": "3bbc6dfc",
   "metadata": {},
   "outputs": [
    {
     "name": "stdout",
     "output_type": "stream",
     "text": [
      "30\n"
     ]
    }
   ],
   "source": [
    "total=0\n",
    "for i in range(len(score)):\n",
    "    total+=int(score[i])\n",
    "print(total//len(score))"
   ]
  },
  {
   "cell_type": "markdown",
   "id": "93363173",
   "metadata": {},
   "source": [
    "# 19번 : 제곱을 구하자"
   ]
  },
  {
   "cell_type": "code",
   "execution_count": 122,
   "id": "d9affad2",
   "metadata": {},
   "outputs": [
    {
     "name": "stdout",
     "output_type": "stream",
     "text": [
      "숫자 2개:3 2\n"
     ]
    }
   ],
   "source": [
    "number=input('숫자 2개:').split()"
   ]
  },
  {
   "cell_type": "code",
   "execution_count": 124,
   "id": "9303a2c7",
   "metadata": {},
   "outputs": [
    {
     "name": "stdout",
     "output_type": "stream",
     "text": [
      "9\n"
     ]
    }
   ],
   "source": [
    "print(int(number[0])**int(number[1]))"
   ]
  },
  {
   "cell_type": "markdown",
   "id": "e950e4ff",
   "metadata": {},
   "source": [
    "# 20번 : 몫과 나머지"
   ]
  },
  {
   "cell_type": "code",
   "execution_count": 125,
   "id": "c60c9b8d",
   "metadata": {},
   "outputs": [
    {
     "name": "stdout",
     "output_type": "stream",
     "text": [
      "숫자 2개:10 2\n"
     ]
    }
   ],
   "source": [
    "number2=input('숫자 2개:').split()"
   ]
  },
  {
   "cell_type": "code",
   "execution_count": 126,
   "id": "46f2654c",
   "metadata": {},
   "outputs": [
    {
     "name": "stdout",
     "output_type": "stream",
     "text": [
      "5 0\n"
     ]
    }
   ],
   "source": [
    "a=int(number2[0])//int(number2[1])\n",
    "b=int(number2[0])%int(number2[1])\n",
    "print(a,b, sep=' ')"
   ]
  },
  {
   "cell_type": "markdown",
   "id": "45c9f107",
   "metadata": {},
   "source": [
    "# 21번 : set은 어떻게 만드나요?"
   ]
  },
  {
   "cell_type": "markdown",
   "id": "d4fb9119",
   "metadata": {},
   "source": [
    "3"
   ]
  },
  {
   "cell_type": "markdown",
   "id": "33ec9709",
   "metadata": {},
   "source": [
    "# 22번 : 배수인지 확인하기"
   ]
  },
  {
   "cell_type": "markdown",
   "id": "3521ec14",
   "metadata": {},
   "source": [
    "2"
   ]
  },
  {
   "cell_type": "markdown",
   "id": "c586360f",
   "metadata": {},
   "source": [
    "# 23번 : OX문제"
   ]
  },
  {
   "cell_type": "markdown",
   "id": "8e259060",
   "metadata": {},
   "source": [
    "X"
   ]
  },
  {
   "cell_type": "markdown",
   "id": "533fc014",
   "metadata": {},
   "source": [
    "# 24번 : 대문자로 바꿔주세요!"
   ]
  },
  {
   "cell_type": "code",
   "execution_count": 134,
   "id": "027c8d7b",
   "metadata": {},
   "outputs": [
    {
     "name": "stdout",
     "output_type": "stream",
     "text": [
      "이름입력:mary\n",
      "MARY\n"
     ]
    }
   ],
   "source": [
    "names=input('이름입력:')\n",
    "print(names.upper())"
   ]
  },
  {
   "cell_type": "markdown",
   "id": "71c1b784",
   "metadata": {},
   "source": [
    "# 25번 : 원의 넓이를 구하세요"
   ]
  },
  {
   "cell_type": "code",
   "execution_count": 137,
   "id": "378ce3c7",
   "metadata": {},
   "outputs": [
    {
     "name": "stdout",
     "output_type": "stream",
     "text": [
      "반지름 길이:7.2\n",
      "162.7776\n"
     ]
    }
   ],
   "source": [
    "n=float(input('반지름 길이:'))\n",
    "print(n*n*3.14)"
   ]
  },
  {
   "cell_type": "markdown",
   "id": "7ed0a823",
   "metadata": {},
   "source": [
    "# 26번 : 행성문제2"
   ]
  },
  {
   "cell_type": "code",
   "execution_count": 140,
   "id": "594f1241",
   "metadata": {},
   "outputs": [
    {
     "name": "stdout",
     "output_type": "stream",
     "text": [
      "행성이름:수성\n",
      "Mercury\n"
     ]
    }
   ],
   "source": [
    "names={'수성':'Mercury','금성':'Venus','지구':'Earth','화성':'Mars','목성':'Jupiter','토성':'Saturn','천왕성':'Uranus','해왕성':'Neptune'}\n",
    "kor=input('행성이름:')\n",
    "print(names[kor])"
   ]
  },
  {
   "cell_type": "markdown",
   "id": "79543207",
   "metadata": {},
   "source": [
    "# 27번 : 딕셔너리 만들기"
   ]
  },
  {
   "cell_type": "code",
   "execution_count": 146,
   "id": "383e5358",
   "metadata": {},
   "outputs": [
    {
     "name": "stdout",
     "output_type": "stream",
     "text": [
      "이름입력:d y\n",
      "점수:10 20\n"
     ]
    }
   ],
   "source": [
    "student=input('이름입력:').split()\n",
    "studentScore=input('점수:').split()"
   ]
  },
  {
   "cell_type": "code",
   "execution_count": 150,
   "id": "87261db2",
   "metadata": {},
   "outputs": [
    {
     "data": {
      "text/plain": [
       "{'d': 10, 'y': 20}"
      ]
     },
     "execution_count": 150,
     "metadata": {},
     "output_type": "execute_result"
    }
   ],
   "source": [
    "#dic={student[0]:int(studentScore[0])}\n",
    "for i in range(len(student)):\n",
    "    dic[student[i]]=int(studentScore[i])\n",
    "dic"
   ]
  },
  {
   "cell_type": "markdown",
   "id": "dac171e5",
   "metadata": {},
   "source": [
    "# 28번 : 2-gram"
   ]
  },
  {
   "cell_type": "code",
   "execution_count": 154,
   "id": "c549de9d",
   "metadata": {},
   "outputs": [
    {
     "name": "stdout",
     "output_type": "stream",
     "text": [
      "Py\n",
      "yt\n",
      "th\n",
      "ho\n",
      "on\n"
     ]
    }
   ],
   "source": [
    "s='Python'\n",
    "for i in range(len(s)-1):\n",
    "    print(s[i]+s[i+1])\n",
    "    "
   ]
  },
  {
   "cell_type": "markdown",
   "id": "fa1fbae6",
   "metadata": {},
   "source": [
    "# 29번 : 대문자만 지나가세요"
   ]
  },
  {
   "cell_type": "code",
   "execution_count": 156,
   "id": "e73fb2c8",
   "metadata": {},
   "outputs": [
    {
     "data": {
      "text/plain": [
       "65"
      ]
     },
     "execution_count": 156,
     "metadata": {},
     "output_type": "execute_result"
    }
   ],
   "source": [
    "ord('A')"
   ]
  },
  {
   "cell_type": "code",
   "execution_count": 157,
   "id": "a01771d8",
   "metadata": {},
   "outputs": [
    {
     "data": {
      "text/plain": [
       "66"
      ]
     },
     "execution_count": 157,
     "metadata": {},
     "output_type": "execute_result"
    }
   ],
   "source": [
    "ord('B')"
   ]
  },
  {
   "cell_type": "code",
   "execution_count": 168,
   "id": "e9d8fb32",
   "metadata": {},
   "outputs": [
    {
     "name": "stdout",
     "output_type": "stream",
     "text": [
      "알파벳 입력:a\n",
      "NO\n"
     ]
    }
   ],
   "source": [
    "al=input('알파벳 입력:')\n",
    "\n",
    "if (ord(al)>=65) & (ord(al)<91):\n",
    "    print('YES')\n",
    "else:\n",
    "    print('NO')"
   ]
  },
  {
   "cell_type": "markdown",
   "id": "97d8fd9d",
   "metadata": {},
   "source": [
    "# 30번 : 문자열 속 문자 찾기"
   ]
  },
  {
   "cell_type": "code",
   "execution_count": 170,
   "id": "a0b82fdb",
   "metadata": {},
   "outputs": [
    {
     "data": {
      "text/plain": [
       "4"
      ]
     },
     "execution_count": 170,
     "metadata": {},
     "output_type": "execute_result"
    }
   ],
   "source": [
    "s='pineapple is yummy'\n",
    "s.find('apple')"
   ]
  },
  {
   "cell_type": "markdown",
   "id": "ac1046a4",
   "metadata": {},
   "source": [
    "# 31번 : 파이썬 자료형의 복잡도"
   ]
  },
  {
   "cell_type": "markdown",
   "id": "f6d4ddbb",
   "metadata": {},
   "source": [
    "시간 복잡도?"
   ]
  },
  {
   "cell_type": "markdown",
   "id": "2a6e10bd",
   "metadata": {},
   "source": [
    "# 32번 : 문자열 만들기"
   ]
  },
  {
   "cell_type": "code",
   "execution_count": 176,
   "id": "ce87c273",
   "metadata": {},
   "outputs": [
    {
     "name": "stdout",
     "output_type": "stream",
     "text": [
      "9\n"
     ]
    }
   ],
   "source": [
    "s='저 넓은 세상을 네 눈앞에 그려봐 네 진심을 느껴봐'\n",
    "count=0\n",
    "for i in s:\n",
    "    if i==\" \":\n",
    "        count+=1\n",
    "    else:\n",
    "        pass\n",
    "print(count+1)"
   ]
  },
  {
   "cell_type": "markdown",
   "id": "00693db3",
   "metadata": {},
   "source": [
    "# 33번 : 거꾸로 출력하기"
   ]
  },
  {
   "cell_type": "code",
   "execution_count": 211,
   "id": "16833aa2",
   "metadata": {},
   "outputs": [
    {
     "name": "stdout",
     "output_type": "stream",
     "text": [
      "숫자입력:10 20 30\n"
     ]
    }
   ],
   "source": [
    "nums=input('숫자입력:').split()"
   ]
  },
  {
   "cell_type": "code",
   "execution_count": 212,
   "id": "52ba02c4",
   "metadata": {},
   "outputs": [
    {
     "name": "stdout",
     "output_type": "stream",
     "text": [
      "30 20 10 "
     ]
    }
   ],
   "source": [
    "for i in nums[::-1]:\n",
    "    print(i,end=' ')"
   ]
  },
  {
   "cell_type": "markdown",
   "id": "c5f8df66",
   "metadata": {},
   "source": [
    "# 34번 : sort 구현하기"
   ]
  },
  {
   "cell_type": "code",
   "execution_count": 187,
   "id": "0b7425fb",
   "metadata": {},
   "outputs": [
    {
     "name": "stdout",
     "output_type": "stream",
     "text": [
      "숫자입력:2 5 3 1 4\n"
     ]
    },
    {
     "data": {
      "text/plain": [
       "[2, 5, 3, 1, 4]"
      ]
     },
     "execution_count": 187,
     "metadata": {},
     "output_type": "execute_result"
    }
   ],
   "source": [
    "heights=list(map(int,input('숫자입력:').split()))\n",
    "heights"
   ]
  },
  {
   "cell_type": "code",
   "execution_count": 195,
   "id": "c7d52eab",
   "metadata": {},
   "outputs": [
    {
     "name": "stdout",
     "output_type": "stream",
     "text": [
      "NO\n"
     ]
    }
   ],
   "source": [
    "for i in range (len(heights)):\n",
    "    #작은 애들부터 큰 애들 순서\n",
    "    if heights[i]<=heights[i+1]:\n",
    "        pass\n",
    "    else:\n",
    "        print('NO')\n",
    "        break\n",
    "    #큰 애들부터 작은 애들 순서\n",
    "    if heights[i]>=heights[i+1]:\n",
    "        pass\n",
    "    else:\n",
    "        print('NO')\n",
    "        break\n",
    "        "
   ]
  },
  {
   "cell_type": "markdown",
   "id": "8a11723e",
   "metadata": {},
   "source": [
    "# 35번 : Factory함수 사용하기"
   ]
  },
  {
   "cell_type": "code",
   "execution_count": 215,
   "id": "a100df88",
   "metadata": {},
   "outputs": [
    {
     "name": "stdout",
     "output_type": "stream",
     "text": [
      "100\n",
      "1000\n",
      "10000\n"
     ]
    }
   ],
   "source": [
    "def one(n):\n",
    "    def two(p):\n",
    "        return p**n\n",
    "    return two\n",
    "\n",
    "a=one(2)\n",
    "b=one(3)\n",
    "c=one(4)\n",
    "print(a(10))\n",
    "print(b(10))\n",
    "print(c(10))"
   ]
  },
  {
   "cell_type": "code",
   "execution_count": null,
   "id": "5263a941",
   "metadata": {},
   "outputs": [],
   "source": [
    "b=one(3)\n",
    "c=one(4)\n",
    "print(a(10))\n",
    "print(b(10))\n",
    "print(c(10))"
   ]
  },
  {
   "cell_type": "markdown",
   "id": "03a3401c",
   "metadata": {},
   "source": [
    "# 36번 : 구구단 출력하기"
   ]
  },
  {
   "cell_type": "code",
   "execution_count": 3,
   "id": "b9ce10e9",
   "metadata": {},
   "outputs": [
    {
     "name": "stdout",
     "output_type": "stream",
     "text": [
      "숫자:2\n",
      "2 4 6 8 10 12 14 16 18 "
     ]
    }
   ],
   "source": [
    "num=int(input('숫자:'))\n",
    "\n",
    "for i in range(1,10):\n",
    "    print(num*i,end=\" \")"
   ]
  },
  {
   "cell_type": "markdown",
   "id": "02cc501c",
   "metadata": {},
   "source": [
    "# 37번 : count사용하기"
   ]
  },
  {
   "cell_type": "code",
   "execution_count": 19,
   "id": "c8f13b82",
   "metadata": {},
   "outputs": [
    {
     "name": "stdout",
     "output_type": "stream",
     "text": [
      "이름: 원영 원영 은비 은비 은비 채연\n"
     ]
    }
   ],
   "source": [
    "names=input(\"이름: \").split()"
   ]
  },
  {
   "cell_type": "code",
   "execution_count": 61,
   "id": "23a4f6b0",
   "metadata": {},
   "outputs": [
    {
     "name": "stdout",
     "output_type": "stream",
     "text": [
      "{'원영': 2, '은비': 3, '채연': 1}\n"
     ]
    },
    {
     "data": {
      "text/plain": [
       "'채연'"
      ]
     },
     "execution_count": 61,
     "metadata": {},
     "output_type": "execute_result"
    }
   ],
   "source": [
    "import collections\n",
    "c=collections.Counter(names)\n",
    "q=dict(c)\n",
    "print(q)\n"
   ]
  },
  {
   "cell_type": "code",
   "execution_count": 69,
   "id": "5231878b",
   "metadata": {},
   "outputs": [
    {
     "name": "stdout",
     "output_type": "stream",
     "text": [
      "은비 가 총 3 표를 받았습니다\n"
     ]
    }
   ],
   "source": [
    "for key,value in q.items():\n",
    "    if max(q.values())==value:\n",
    "        print(key,\"가 총\",value,\"표를 받았습니다\")"
   ]
  },
  {
   "cell_type": "markdown",
   "id": "fbb77b53",
   "metadata": {},
   "source": [
    "# 38번 : 호준이의 아르바이트"
   ]
  },
  {
   "cell_type": "code",
   "execution_count": 133,
   "id": "09f8fc5f",
   "metadata": {},
   "outputs": [
    {
     "name": "stdout",
     "output_type": "stream",
     "text": [
      "점수:97 86 75 66 55 97 85 97 97 95\n"
     ]
    }
   ],
   "source": [
    "scores=list(map(int,input(\"점수:\").split()))"
   ]
  },
  {
   "cell_type": "code",
   "execution_count": 134,
   "id": "1f1fedc0",
   "metadata": {},
   "outputs": [
    {
     "data": {
      "text/plain": [
       "[97, 86, 75, 66, 55, 97, 85, 97, 97, 95]"
      ]
     },
     "execution_count": 134,
     "metadata": {},
     "output_type": "execute_result"
    }
   ],
   "source": [
    "scores"
   ]
  },
  {
   "cell_type": "code",
   "execution_count": 138,
   "id": "1fa96b6d",
   "metadata": {},
   "outputs": [
    {
     "data": {
      "text/plain": [
       "[97, 95, 86, 85, 75, 66, 55]"
      ]
     },
     "execution_count": 138,
     "metadata": {},
     "output_type": "execute_result"
    }
   ],
   "source": [
    "c=collections.Counter(scores)\n",
    "q=dict(c)\n",
    "\n",
    "d1=sorted(q.items(),reverse=True)\n",
    "d2=dict(d1)\n",
    "\n",
    "d3=sorted(q.keys(),reverse=True)\n",
    "d3"
   ]
  },
  {
   "cell_type": "code",
   "execution_count": 140,
   "id": "7214060f",
   "metadata": {},
   "outputs": [
    {
     "name": "stdout",
     "output_type": "stream",
     "text": [
      "6\n"
     ]
    }
   ],
   "source": [
    "candy=0\n",
    "for key,value in d2.items():\n",
    "    candy+=value\n",
    "    if key==d3[2]:\n",
    "        break\n",
    "print(candy)"
   ]
  },
  {
   "cell_type": "markdown",
   "id": "d2408889",
   "metadata": {},
   "source": [
    "# 39번 : 오타 수정하기"
   ]
  },
  {
   "cell_type": "code",
   "execution_count": 153,
   "id": "54d171e4",
   "metadata": {},
   "outputs": [
    {
     "name": "stdout",
     "output_type": "stream",
     "text": [
      "euerty\n"
     ]
    }
   ],
   "source": [
    "s=\"querty\"\n",
    "idx=s.find(\"q\")\n",
    "s[idx]\n",
    "for i in s:\n",
    "    if s[idx]==i:\n",
    "        new=s.replace(s[idx],'e')\n",
    "print(new)"
   ]
  },
  {
   "cell_type": "markdown",
   "id": "2c1b8c40",
   "metadata": {},
   "source": [
    "# 40번 : 놀이동산에 가자"
   ]
  },
  {
   "cell_type": "code",
   "execution_count": 158,
   "id": "a76da460",
   "metadata": {},
   "outputs": [
    {
     "name": "stdout",
     "output_type": "stream",
     "text": [
      "숫자:2\n"
     ]
    }
   ],
   "source": [
    "lm=list(map(int,input(\"숫자:\").split(\"\\n\")))"
   ]
  },
  {
   "cell_type": "code",
   "execution_count": 177,
   "id": "b5fb21ef",
   "metadata": {},
   "outputs": [
    {
     "name": "stdout",
     "output_type": "stream",
     "text": [
      "0\n",
      "0\n",
      "20\n",
      "40\n",
      "60\n",
      "80\n",
      "100\n"
     ]
    }
   ],
   "source": [
    "l=[50,5,20,20,20,20,20]\n",
    "w=0\n",
    "for j in l:\n",
    "    if l[0]==j:\n",
    "        w+=0\n",
    "    elif l[1]==j:\n",
    "        w+=0\n",
    "    else:\n",
    "        w+=j\n",
    "    print(w)"
   ]
  },
  {
   "cell_type": "markdown",
   "id": "9aa22d14",
   "metadata": {},
   "source": [
    "# 41번 : 소수판별"
   ]
  },
  {
   "cell_type": "code",
   "execution_count": 188,
   "id": "73240ac4",
   "metadata": {},
   "outputs": [
    {
     "name": "stdout",
     "output_type": "stream",
     "text": [
      "No\n"
     ]
    }
   ],
   "source": [
    "n=4\n",
    "if n>5:\n",
    "    if (n%2!=0)&(n%3!=0)&(n%5!=0):\n",
    "        print('Yes')\n",
    "    else:\n",
    "        print('No')\n",
    "else:\n",
    "    if (n==2)|(n==3)|(n==5):\n",
    "        print('Yes')\n",
    "    else:\n",
    "        print('No')"
   ]
  },
  {
   "cell_type": "markdown",
   "id": "b9de000e",
   "metadata": {},
   "source": [
    "# 42번 : 2020년"
   ]
  },
  {
   "cell_type": "code",
   "execution_count": 236,
   "id": "a116d926",
   "metadata": {},
   "outputs": [
    {
     "name": "stdout",
     "output_type": "stream",
     "text": [
      "일\n"
     ]
    }
   ],
   "source": [
    "sum_days=0\n",
    "total_days=0\n",
    "a=5\n",
    "b=24\n",
    "for i in range(0,a-1):\n",
    "    sum_days+=day[i]\n",
    "total_days=sum_days+b\n",
    "if total_days%7==0:\n",
    "    print('수')\n",
    "elif total_days%7==1:\n",
    "    print('목')\n",
    "elif total_days%7==2:\n",
    "    print('금')\n",
    "elif total_days%7==3:\n",
    "    print('토')\n",
    "elif total_days%7==4:\n",
    "    print('일')\n",
    "elif total_days%7==5:\n",
    "    print('월')\n",
    "elif total_days%7==6:\n",
    "    print('화')"
   ]
  },
  {
   "cell_type": "markdown",
   "id": "f6f04df8",
   "metadata": {},
   "source": [
    "# 43번 : 10진수를 2진수로"
   ]
  },
  {
   "cell_type": "code",
   "execution_count": 1,
   "id": "1bd7e682",
   "metadata": {},
   "outputs": [
    {
     "name": "stdout",
     "output_type": "stream",
     "text": [
      "['1', '1', '0', '1']\n"
     ]
    }
   ],
   "source": [
    "n=13\n",
    "a=[]\n",
    "result=[]\n",
    "while n:\n",
    "    if n!=0:\n",
    "        a.append(str(n%2))\n",
    "        n=int(n//2)\n",
    "    else:\n",
    "        break\n",
    "        \n",
    "for i in a[::-1]:\n",
    "    result.append(i)\n",
    "print(result)"
   ]
  },
  {
   "cell_type": "markdown",
   "id": "c8533257",
   "metadata": {},
   "source": [
    "# 44번 : 각 자리수의 합"
   ]
  },
  {
   "cell_type": "code",
   "execution_count": 280,
   "id": "436f667d",
   "metadata": {},
   "outputs": [
    {
     "name": "stdout",
     "output_type": "stream",
     "text": [
      "24\n"
     ]
    }
   ],
   "source": [
    "n1=3849\n",
    "n1=str(n1)\n",
    "total=0\n",
    "for i in n1:\n",
    "    total+=int(i)\n",
    "print(total)"
   ]
  },
  {
   "cell_type": "markdown",
   "id": "0787cacf",
   "metadata": {},
   "source": [
    "# 45번 : time 함수 사용하기"
   ]
  },
  {
   "cell_type": "code",
   "execution_count": 284,
   "id": "110bbce2",
   "metadata": {},
   "outputs": [
    {
     "data": {
      "text/plain": [
       "1672669850.1963916"
      ]
     },
     "execution_count": 284,
     "metadata": {},
     "output_type": "execute_result"
    }
   ],
   "source": [
    "from time import time\n",
    "\n",
    "time()"
   ]
  },
  {
   "cell_type": "code",
   "execution_count": 286,
   "id": "844ed82d",
   "metadata": {},
   "outputs": [
    {
     "name": "stdout",
     "output_type": "stream",
     "text": [
      "year: 2023\n"
     ]
    }
   ],
   "source": [
    "from time import localtime\n",
    "\n",
    "tm = localtime(time())\n",
    "print(\"year:\", tm.tm_year)"
   ]
  },
  {
   "cell_type": "markdown",
   "id": "1ab16852",
   "metadata": {},
   "source": [
    "# 46번 : str 자료형의 응용"
   ]
  },
  {
   "cell_type": "code",
   "execution_count": 4,
   "id": "c1e36259",
   "metadata": {},
   "outputs": [],
   "source": [
    "numbers=['1','2','3','4','5','6','7','8','9','10','11','12','13','14','15','16','17','18','19','20']"
   ]
  },
  {
   "cell_type": "code",
   "execution_count": 6,
   "id": "19c86f4c",
   "metadata": {},
   "outputs": [],
   "source": [
    "newnums=''.join(numbers)"
   ]
  },
  {
   "cell_type": "code",
   "execution_count": 9,
   "id": "adc8c3fb",
   "metadata": {},
   "outputs": [
    {
     "data": {
      "text/plain": [
       "102"
      ]
     },
     "execution_count": 9,
     "metadata": {},
     "output_type": "execute_result"
    }
   ],
   "source": [
    "total_sum=0\n",
    "for i in newnums:\n",
    "    total_sum+=int(i)\n",
    "total_sum"
   ]
  },
  {
   "cell_type": "markdown",
   "id": "50548b06",
   "metadata": {},
   "source": [
    "# 47번 : set자료형의 응용"
   ]
  },
  {
   "cell_type": "code",
   "execution_count": 10,
   "id": "a25521e2",
   "metadata": {},
   "outputs": [],
   "source": [
    "people=[\n",
    "    ('이호준','01050442903'),\n",
    "    ('이호상','01051442904'),\n",
    "    ('이준호','01050342904'),\n",
    "    ('이호준','01050442903'),\n",
    "    ('이준','01050412904'),\n",
    "    ('이호','01050443904'),\n",
    "    ('이호준','01050442903')\n",
    "]"
   ]
  },
  {
   "cell_type": "code",
   "execution_count": 19,
   "id": "e32bed6b",
   "metadata": {},
   "outputs": [
    {
     "data": {
      "text/plain": [
       "{('이준', '01050412904'),\n",
       " ('이준호', '01050342904'),\n",
       " ('이호', '01050443904'),\n",
       " ('이호상', '01051442904'),\n",
       " ('이호준', '01050442903')}"
      ]
     },
     "execution_count": 19,
     "metadata": {},
     "output_type": "execute_result"
    }
   ],
   "source": [
    "new_set=set(people)\n",
    "new_set"
   ]
  },
  {
   "cell_type": "code",
   "execution_count": 18,
   "id": "69a56663",
   "metadata": {},
   "outputs": [
    {
     "data": {
      "text/plain": [
       "5"
      ]
     },
     "execution_count": 18,
     "metadata": {},
     "output_type": "execute_result"
    }
   ],
   "source": [
    "len(new_set)"
   ]
  },
  {
   "cell_type": "markdown",
   "id": "feb4631f",
   "metadata": {},
   "source": [
    "# 48번 : 대소문자 바꿔서 출력하기"
   ]
  },
  {
   "cell_type": "code",
   "execution_count": 25,
   "id": "d6a781e9",
   "metadata": {},
   "outputs": [
    {
     "name": "stdout",
     "output_type": "stream",
     "text": [
      "aaabbbCCCDDD\n"
     ]
    }
   ],
   "source": [
    "s='AAABBBcccddd'\n",
    "s2=''\n",
    "for i in s:\n",
    "    if i.isupper():\n",
    "        s2+=i.lower()\n",
    "    else:\n",
    "        s2+=i.upper()\n",
    "print(s2)"
   ]
  },
  {
   "cell_type": "markdown",
   "id": "2a0a6e60",
   "metadata": {},
   "source": [
    "# 49번 : 최댓값 구하기"
   ]
  },
  {
   "cell_type": "code",
   "execution_count": 30,
   "id": "4b11f176",
   "metadata": {},
   "outputs": [
    {
     "name": "stdout",
     "output_type": "stream",
     "text": [
      "숫자들:10 9 8\n"
     ]
    }
   ],
   "source": [
    "numbs=list(map(int,input('숫자들:').split(' ')))"
   ]
  },
  {
   "cell_type": "code",
   "execution_count": 31,
   "id": "f54610a4",
   "metadata": {},
   "outputs": [
    {
     "data": {
      "text/plain": [
       "[10, 9, 8]"
      ]
     },
     "execution_count": 31,
     "metadata": {},
     "output_type": "execute_result"
    }
   ],
   "source": [
    "numbs"
   ]
  },
  {
   "cell_type": "code",
   "execution_count": 33,
   "id": "28b17de8",
   "metadata": {},
   "outputs": [
    {
     "name": "stdout",
     "output_type": "stream",
     "text": [
      "10\n"
     ]
    }
   ],
   "source": [
    "max=0\n",
    "for i in numbs:\n",
    "    if i>max:\n",
    "        max=i\n",
    "print(max)"
   ]
  },
  {
   "cell_type": "markdown",
   "id": "9a411c81",
   "metadata": {},
   "source": [
    "# 50번 : 버블정렬 구현하기"
   ]
  },
  {
   "cell_type": "code",
   "execution_count": 34,
   "id": "d498c076",
   "metadata": {},
   "outputs": [
    {
     "name": "stdout",
     "output_type": "stream",
     "text": [
      "5\n",
      "4 2 3 8 5\n",
      "2 3 4 5 8 "
     ]
    }
   ],
   "source": [
    "def bubble(n,data):\n",
    "    for i in range(n-i):#굳이 끝까지 순회를 안돌아도 되니까 n-i까지만 해도됨\n",
    "        for j in range(n-1):\n",
    "            if data[j]>data[j+1]:\n",
    "                data[j],data[j+1]=data[j+1],data[j]\n",
    "    for i in range(n):\n",
    "        print(data[i],end=\" \")\n",
    "\n",
    "n=int(input()) #총 몇개\n",
    "data=list(map(int,input().split()))\n",
    "\n",
    "bubble(n,data)"
   ]
  },
  {
   "cell_type": "code",
   "execution_count": null,
   "id": "9511b5bc",
   "metadata": {},
   "outputs": [],
   "source": []
  }
 ],
 "metadata": {
  "kernelspec": {
   "display_name": "Python 3 (ipykernel)",
   "language": "python",
   "name": "python3"
  },
  "language_info": {
   "codemirror_mode": {
    "name": "ipython",
    "version": 3
   },
   "file_extension": ".py",
   "mimetype": "text/x-python",
   "name": "python",
   "nbconvert_exporter": "python",
   "pygments_lexer": "ipython3",
   "version": "3.9.12"
  },
  "toc": {
   "base_numbering": 1,
   "nav_menu": {},
   "number_sections": true,
   "sideBar": true,
   "skip_h1_title": false,
   "title_cell": "Table of Contents",
   "title_sidebar": "Contents",
   "toc_cell": false,
   "toc_position": {},
   "toc_section_display": true,
   "toc_window_display": false
  }
 },
 "nbformat": 4,
 "nbformat_minor": 5
}
